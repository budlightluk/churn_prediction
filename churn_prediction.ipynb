{
 "cells": [
  {
   "cell_type": "markdown",
   "id": "0c953026-9e1b-4efa-a400-6a1b88c15ed4",
   "metadata": {},
   "source": [
    "Импорт библиотек"
   ]
  },
  {
   "cell_type": "code",
   "execution_count": null,
   "id": "b6be5fa5-73bd-47c1-bda0-b395cc94bc6e",
   "metadata": {},
   "outputs": [],
   "source": [
    "pip install catboost"
   ]
  },
  {
   "cell_type": "code",
   "execution_count": 10,
   "id": "cea0ae70-54ba-4eed-a219-b1977e3f3be4",
   "metadata": {},
   "outputs": [],
   "source": [
    "import numpy as np\n",
    "import pandas as pd\n",
    "from sklearn.model_selection import train_test_split\n",
    "from sklearn.preprocessing import StandardScaler\n",
    "from sklearn.metrics import accuracy_score, precision_score, recall_score\n",
    "import catboost as cb\n",
    "import tensorflow as tf\n",
    "from tensorflow.keras.models import Sequential\n",
    "from tensorflow.keras.layers import Dense\n",
    "import matplotlib.pyplot as plt\n",
    "import seaborn as sns"
   ]
  },
  {
   "cell_type": "markdown",
   "id": "a45d6430-1dc1-481a-9c91-e9673747d958",
   "metadata": {},
   "source": [
    "Синтезирование данных (Если есть свои -- пропускайте)"
   ]
  },
  {
   "cell_type": "code",
   "execution_count": 16,
   "id": "c2338383-f513-4bef-a280-cfdd9ce7f03d",
   "metadata": {},
   "outputs": [],
   "source": [
    "def generate_synthetic_data(num_samples=1000):\n",
    "    np.random.seed(42)\n",
    "    data = pd.DataFrame({\n",
    "        'Age': np.random.randint(18, 70, size=num_samples),\n",
    "        'Balance': np.random.uniform(0, 100000, size=num_samples),\n",
    "        'NumOfProducts': np.random.randint(1, 4, size=num_samples),\n",
    "        'HasCrCard': np.random.randint(0, 2, size=num_samples),\n",
    "        'IsActiveMember': np.random.randint(0, 2, size=num_samples),\n",
    "        'EstimatedSalary': np.random.uniform(10000, 150000, size=num_samples),\n",
    "        'Churn': np.random.randint(0, 2, size=num_samples)\n",
    "    })\n",
    "    return data\n",
    "\n",
    "# Генерация данных\n",
    "data = generate_synthetic_data()\n",
    "data.to_csv('../data/generated_data.csv', index=False)\n",
    "import os\n"
   ]
  },
  {
   "cell_type": "markdown",
   "id": "c07b653e-14f2-443f-98dc-997bffe8bb14",
   "metadata": {},
   "source": [
    "Предобработка данных"
   ]
  },
  {
   "cell_type": "code",
   "execution_count": 18,
   "id": "e61d5be6-2ab6-4679-8326-b8fafcab6a35",
   "metadata": {},
   "outputs": [],
   "source": [
    "data = pd.read_csv('../data/generated_data.csv')\n",
    "\n",
    "# Преобразование категориальных переменных\n",
    "data = pd.get_dummies(data, drop_first=True)\n",
    "\n",
    "# Разделение данных\n",
    "X = data.drop('Churn', axis=1)\n",
    "y = data['Churn']\n",
    "X_train, X_test, y_train, y_test = train_test_split(X, y, test_size=0.2, random_state=42)\n"
   ]
  },
  {
   "cell_type": "markdown",
   "id": "7eab7f19-ef4d-4f32-9dd6-4abb1238f152",
   "metadata": {},
   "source": [
    "Модель Catboost"
   ]
  },
  {
   "cell_type": "code",
   "execution_count": 21,
   "id": "e294c83a-1687-478d-aeb8-33dbe12b9bfa",
   "metadata": {},
   "outputs": [
    {
     "name": "stdout",
     "output_type": "stream",
     "text": [
      "CatBoost Accuracy: 0.485\n",
      "CatBoost Precision: 0.4827586206896552\n",
      "CatBoost Recall: 0.42\n"
     ]
    }
   ],
   "source": [
    "catboost_model = cb.CatBoostClassifier(verbose=0)\n",
    "catboost_model.fit(X_train, y_train)\n",
    "y_pred_cb = catboost_model.predict(X_test)\n",
    "\n",
    "print(f\"CatBoost Accuracy: {accuracy_score(y_test, y_pred_cb)}\")\n",
    "print(f\"CatBoost Precision: {precision_score(y_test, y_pred_cb)}\")\n",
    "print(f\"CatBoost Recall: {recall_score(y_test, y_pred_cb)}\")\n"
   ]
  },
  {
   "cell_type": "markdown",
   "id": "a727dd42-f085-4826-abfa-35b9c4f2293a",
   "metadata": {},
   "source": [
    "Модель TensorFlow"
   ]
  },
  {
   "cell_type": "code",
   "execution_count": 26,
   "id": "a9c1b0a9-af86-4cb7-8afd-bd4f8170a4cb",
   "metadata": {},
   "outputs": [
    {
     "name": "stdout",
     "output_type": "stream",
     "text": [
      "\u001b[1m7/7\u001b[0m \u001b[32m━━━━━━━━━━━━━━━━━━━━\u001b[0m\u001b[37m\u001b[0m \u001b[1m0s\u001b[0m 4ms/step \n",
      "TensorFlow Accuracy: 0.48\n",
      "TensorFlow Precision: 0.4772727272727273\n",
      "TensorFlow Recall: 0.42\n"
     ]
    }
   ],
   "source": [
    "scaler = StandardScaler()\n",
    "X_train_scaled = scaler.fit_transform(X_train)\n",
    "X_test_scaled = scaler.transform(X_test)\n",
    "\n",
    "model = Sequential([\n",
    "    Dense(32, activation='relu'),\n",
    "    Dense(16, activation='relu'),\n",
    "    Dense(1, activation='sigmoid')\n",
    "])\n",
    "\n",
    "model.compile(optimizer='adam', loss='binary_crossentropy', metrics=['accuracy'])\n",
    "model.fit(X_train_scaled, y_train, epochs=50, batch_size=32, verbose=0)\n",
    "\n",
    "y_pred_tf = (model.predict(X_test_scaled) > 0.5).astype(\"int32\")\n",
    "\n",
    "print(f\"TensorFlow Accuracy: {accuracy_score(y_test, y_pred_tf)}\")\n",
    "print(f\"TensorFlow Precision: {precision_score(y_test, y_pred_tf)}\")\n",
    "print(f\"TensorFlow Recall: {recall_score(y_test, y_pred_tf)}\")\n"
   ]
  },
  {
   "cell_type": "code",
   "execution_count": null,
   "id": "acc6de77-1b8c-4fd4-bfe3-bc946e65b9ad",
   "metadata": {},
   "outputs": [],
   "source": [
    "catboost_model.save_model('../models/catboost_model.cbm')\n",
    "model.save('../models/model.h5')\n"
   ]
  }
 ],
 "metadata": {
  "kernelspec": {
   "display_name": "Python 3 (ipykernel)",
   "language": "python",
   "name": "python3"
  },
  "language_info": {
   "codemirror_mode": {
    "name": "ipython",
    "version": 3
   },
   "file_extension": ".py",
   "mimetype": "text/x-python",
   "name": "python",
   "nbconvert_exporter": "python",
   "pygments_lexer": "ipython3",
   "version": "3.11.5"
  }
 },
 "nbformat": 4,
 "nbformat_minor": 5
}
